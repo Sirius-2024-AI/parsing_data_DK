{
 "cells": [
  {
   "cell_type": "code",
   "execution_count": 1,
   "metadata": {},
   "outputs": [
    {
     "name": "stderr",
     "output_type": "stream",
     "text": [
      "C:\\Users\\danii\\AppData\\Local\\Temp\\ipykernel_16492\\1837837796.py:6: DeprecationWarning: \n",
      "Pyarrow will become a required dependency of pandas in the next major release of pandas (pandas 3.0),\n",
      "(to allow more performant data types, such as the Arrow string type, and better interoperability with other libraries)\n",
      "but was not found to be installed on your system.\n",
      "If this would cause problems for you,\n",
      "please provide us feedback at https://github.com/pandas-dev/pandas/issues/54466\n",
      "        \n",
      "  import pandas as pd\n"
     ]
    }
   ],
   "source": [
    "import json\n",
    "import time\n",
    "import requests\n",
    "import hashlib\n",
    "import csv\n",
    "import pandas as pd\n",
    "from datetime import datetime\n"
   ]
  },
  {
   "cell_type": "code",
   "execution_count": 2,
   "metadata": {},
   "outputs": [],
   "source": [
    "class DomClickApi:\n",
    "    def __init__(self):\n",
    "        self.session = requests.Session()\n",
    "        self.session.headers.update({\"X-Service\": \"true\",\n",
    "                                    \"Connection\": \"Keep-Alive\",\n",
    "                                     \"User-Agent\": \"Android; 12; Google; google_pixel_5; 8.72.0; 8720006; ; NONAUTH\"\n",
    "                                     })\n",
    "\n",
    "        # init (get cookies)\n",
    "        self.get(\"https://api.domclick.ru/core/no-auth-zone/api/v1/ensure_session\")\n",
    "        self.get(\"https://ipoteka.domclick.ru/mobile/v1/feature_toggles\")\n",
    "\n",
    "    def get(self, url, **kwargs):\n",
    "        self.__update_headers(url, **kwargs)\n",
    "        result = self.session.get(url, **kwargs)\n",
    "        #print(self.session.cookies.get_dict())\n",
    "        return result\n",
    "\n",
    "    def __update_headers(self, url, **kwargs):\n",
    "        url = self.__get_prepared_url(url, **kwargs)\n",
    "        sault = \"ad65f331b02b90d868cbdd660d82aba0\"\n",
    "        timestamp = str(int(datetime.now().timestamp()))\n",
    "        encoded = (sault + url + timestamp).encode(\"UTF-8\")\n",
    "        h = hashlib.md5(encoded).hexdigest()\n",
    "        self.session.headers.update({\"Timestamp\": timestamp,\n",
    "                                     \"Hash\": \"v1:\" + h,\n",
    "                                     })\n",
    "\n",
    "    def __get_prepared_url(self, url, **kwargs):\n",
    "        p = requests.models.PreparedRequest()\n",
    "        p.prepare(method=\"GET\", url=url, **kwargs)\n",
    "        return p.url\n",
    "\n"
   ]
  },
  {
   "cell_type": "code",
   "execution_count": 3,
   "metadata": {},
   "outputs": [],
   "source": [
    "\n",
    "def pprint_json(json_str):\n",
    "    try:\n",
    "        json_object = json.loads(json_str)\n",
    "        json_formatted_str = json.dumps(json_object, indent=2, ensure_ascii=False).encode('utf8')\n",
    "        print(json_formatted_str.decode())\n",
    "    except:\n",
    "        pass\n",
    "        print(json_str)\n"
   ]
  },
  {
   "cell_type": "code",
   "execution_count": 4,
   "metadata": {},
   "outputs": [],
   "source": [
    "def get_keys(d):\n",
    "    if isinstance(d, dict):\n",
    "        for k, v in d.items():\n",
    "            yield k\n",
    "            yield from list(get_keys(v))\n",
    "    elif isinstance(d, list):\n",
    "        for o in d:\n",
    "            yield from list(get_keys(o))"
   ]
  },
  {
   "cell_type": "code",
   "execution_count": 5,
   "metadata": {},
   "outputs": [],
   "source": [
    "def get_guid_of_regione(list_of_region) -> list:\n",
    "        address = []\n",
    "        for regione in list_of_region:\n",
    "                offers_url = 'https://geo-service.domclick.ru/research/api/v1/autocomplete/regions'\n",
    "                dca = DomClickApi()\n",
    "                res = dca.get(offers_url, params={\n",
    "                        \"name\": regione  #<<-- you regione str\n",
    "                })\n",
    "                count_obj = json.loads(res.text)\n",
    "                address.append(count_obj['answer']['items'][0]['guid'])\n",
    "        return address\n",
    "\n",
    "   "
   ]
  },
  {
   "cell_type": "code",
   "execution_count": 6,
   "metadata": {},
   "outputs": [],
   "source": [
    "\n",
    "offset = 0\n",
    "remont = ['standard', 'design', 'office_finishing', 'simple', 'required_cosmetic', 'required_repair', 'well_done', 'without_repair'] #without_repair design standard well_done\n",
    "balcons = [1, 2, 3, 4, 5]\n",
    "rooms = [1, 2, 3, 4, 5]\n",
    "type_dome = ['layout', 'flat'] #flat loyout\n",
    "perec = ['brick', 'wood', 'monolith', 'panel', 'block', 'brick_monolith', 'shield', 'frame', 'foamed_block', 'gaz_block', 'metal'] #monolith  brick panel block\n",
    "\n",
    "offers_url = 'https://offers-service.domclick.ru/research/v5/offers/'\n",
    "count_url = 'https://offers-service.domclick.ru/research/v5/offers/count/'\n"
   ]
  },
  {
   "cell_type": "code",
   "execution_count": 7,
   "metadata": {},
   "outputs": [],
   "source": [
    "def get_guid_of_regione(list_of_region) -> list:\n",
    "        address = []\n",
    "        for regione in list_of_region:\n",
    "                offers_url = 'https://geo-service.domclick.ru/research/api/v1/autocomplete/regions'\n",
    "                dca = DomClickApi()\n",
    "                res = dca.get(offers_url, params={\n",
    "                        \"name\": regione  #<<-- you regione str\n",
    "                })\n",
    "                count_obj = json.loads(res.text)\n",
    "                address.append(count_obj['answer']['items'][0]['guid'])\n",
    "        return address\n",
    "\n",
    "   "
   ]
  },
  {
   "cell_type": "code",
   "execution_count": 9,
   "metadata": {},
   "outputs": [],
   "source": [
    "from DB import tobd\n",
    "def main_parser_fn(addresse):    \n",
    "    \n",
    "    offset = 0\n",
    "    remont = ['standard', 'design', 'office_finishing', 'simple', 'required_cosmetic', 'required_repair', 'well_done', 'without_repair'] #without_repair design standard well_done\n",
    "    balcons = [1, 2]\n",
    "    rooms = [1, 2, 3, 4]\n",
    "    type_dome = ['layout', 'flat'] \n",
    "    perec = ['brick', 'wood', 'monolith', 'panel', 'block', 'brick_monolith', 'shield', 'frame', 'foamed_block', 'gaz_block', 'metal']\n",
    "    offers_url = 'https://offers-service.domclick.ru/research/v5/offers/'\n",
    "    count_url = 'https://offers-service.domclick.ru/research/v5/offers/count/'\n",
    "\n",
    "    dca = DomClickApi()\n",
    "    for type in perec:\n",
    "        for room in rooms:\n",
    "            for sd in type_dome:\n",
    "                for rem in remont:\n",
    "                    for balcon in balcons:\n",
    "                        req = dca.get(count_url, params={\n",
    "                            \"address\": addresse,\n",
    "                            \"deal_type\": \"sale\",\n",
    "                            \"category\": \"living\",\n",
    "                            \"offer_type\": [sd],\n",
    "                            'renovation': rem,\n",
    "                            'rooms': room,\n",
    "                            \"wall_type\": type,\n",
    "                            \"balconies\": balcon\n",
    "                        })\n",
    "\n",
    "                        count_obj = json.loads(req.text)\n",
    "                        total = count_obj[\"pagination\"][\"total\"]\n",
    "                        \n",
    "                        for offset in range(0, total, 1):\n",
    "                            try: \n",
    "                                res = dca.get(offers_url, params={\n",
    "                                            \"address\": addresse,\n",
    "                                            \"deal_type\": \"sale\",\n",
    "                                            \"category\": \"living\",\n",
    "                                            \"offer_type\": [sd],\n",
    "                                            \"offset\": offset,\n",
    "                                            \"limit\": 10,\n",
    "                                            'rooms': room,\n",
    "                                            \"wall_type\": type,\n",
    "                                            \"renovation\": rem,\n",
    "                                            'balconies': balcon\n",
    "                                })\n",
    "                                print(\"RES:\", res)\n",
    "                                offers_obj = json.loads(res.text)\n",
    "                                result_data = offers_obj['result']\n",
    "                                items = result_data['items']\n",
    "                                for item in items:\n",
    "                                    address = item['address']\n",
    "                                    price = item['price_info']\n",
    "                                    object_info = item['object_info']\n",
    "                                    row = (address['name'],\n",
    "                                           price['price'],\n",
    "                                           price['square_price'],\n",
    "                                           object_info['floor'],\n",
    "                                           object_info['rooms'],\n",
    "                                           object_info['area'],\n",
    "                                           address['locality']['name'],\n",
    "                                           sd,\n",
    "                                           rem,\n",
    "                                           balcon,\n",
    "                                           address['guid'])\n",
    "                                    \n",
    "                                    tobd(row)                        \n",
    "                            except ConnectionError:\n",
    "                                print(\"error\")\n",
    "    return 0                         "
   ]
  },
  {
   "cell_type": "code",
   "execution_count": null,
   "metadata": {},
   "outputs": [],
   "source": [
    "addr = get_guid_of_regione(['Москва', 'Новосибирск'])\n",
    "for i in addr:\n",
    "    main_parser_fn(i)"
   ]
  }
 ],
 "metadata": {
  "kernelspec": {
   "display_name": "Python 3",
   "language": "python",
   "name": "python3"
  },
  "language_info": {
   "codemirror_mode": {
    "name": "ipython",
    "version": 3
   },
   "file_extension": ".py",
   "mimetype": "text/x-python",
   "name": "python",
   "nbconvert_exporter": "python",
   "pygments_lexer": "ipython3",
   "version": "3.12.0"
  }
 },
 "nbformat": 4,
 "nbformat_minor": 2
}
