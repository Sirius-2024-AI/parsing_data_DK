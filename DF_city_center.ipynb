{
 "cells": [
  {
   "cell_type": "code",
   "id": "initial_id",
   "metadata": {
    "collapsed": true,
    "ExecuteTime": {
     "end_time": "2024-07-17T11:53:07.298639Z",
     "start_time": "2024-07-17T11:53:06.263380Z"
    }
   },
   "source": [
    "import pandas as pd\n",
    "import numpy as np"
   ],
   "outputs": [],
   "execution_count": 1
  },
  {
   "metadata": {
    "ExecuteTime": {
     "end_time": "2024-07-17T11:53:07.314642Z",
     "start_time": "2024-07-17T11:53:07.298639Z"
    }
   },
   "cell_type": "code",
   "source": [
    "df = pd.DataFrame([[\"Санкт_Петербург\", 59.938784, 30.314997],\n",
    "[\"Екатеринбург\", 56.838011, 60.597474],\n",
    "[\"Новосибирск\", 55.030204, 82.920430],\n",
    "[\"Казань\", 55.796127, 49.106414],\n",
    "[\"Нижний Новгород\", 56.326797, 44.006516],\n",
    "[\"Сочи\", 43.585472, 39.723098],\n",
    "[\"Геленджик\", 44.561012, 38.077115],\n",
    "[\"Самара\", 53.195878, 50.100202],\n",
    "[\"Анапа\", 44.894818, 37.316367],\n",
    "[\"Краснодар\", 45.035470, 38.975313],\n",
    "[\"Балашиха\", 55.797007, 37.938118],\n",
    "[\"Москва\", 55.755864, 37.617698]], columns=['city', 'center_lat', 'center_lon'])"
   ],
   "id": "321cbb16c3ee13ce",
   "outputs": [],
   "execution_count": 2
  },
  {
   "metadata": {
    "ExecuteTime": {
     "end_time": "2024-07-17T11:53:07.336273Z",
     "start_time": "2024-07-17T11:53:07.314642Z"
    }
   },
   "cell_type": "code",
   "source": "df.to_csv(\"center_of_city_v3.csv\", index=False)",
   "id": "5b1400a7baf2926b",
   "outputs": [],
   "execution_count": 3
  },
  {
   "metadata": {
    "ExecuteTime": {
     "end_time": "2024-07-17T11:09:37.713781Z",
     "start_time": "2024-07-17T11:09:37.625626Z"
    }
   },
   "cell_type": "code",
   "source": "df",
   "id": "3ff1e3c60f515487",
   "outputs": [
    {
     "data": {
      "text/plain": [
       "               city  center_lat  center_lon\n",
       "0   Санкт_Петербург   59.938784   30.314997\n",
       "1      Екатеринбург   56.838011   60.597474\n",
       "2       Новосибирск   55.030204   82.920430\n",
       "3            Казань   55.796127   49.106414\n",
       "4   Нижний Новгород   56.326797   44.006516\n",
       "5              Сочи   43.585472   39.723098\n",
       "6         Геленджик   44.561012   38.077115\n",
       "7            Самара   53.195878   50.100202\n",
       "8             Анапа   44.894818   37.316367\n",
       "9         Краснодар   45.035470   38.975313\n",
       "10         Балашиха   55.797007   37.938118\n",
       "11           Москва   55.755864   37.617698"
      ],
      "text/html": [
       "<div>\n",
       "<style scoped>\n",
       "    .dataframe tbody tr th:only-of-type {\n",
       "        vertical-align: middle;\n",
       "    }\n",
       "\n",
       "    .dataframe tbody tr th {\n",
       "        vertical-align: top;\n",
       "    }\n",
       "\n",
       "    .dataframe thead th {\n",
       "        text-align: right;\n",
       "    }\n",
       "</style>\n",
       "<table border=\"1\" class=\"dataframe\">\n",
       "  <thead>\n",
       "    <tr style=\"text-align: right;\">\n",
       "      <th></th>\n",
       "      <th>city</th>\n",
       "      <th>center_lat</th>\n",
       "      <th>center_lon</th>\n",
       "    </tr>\n",
       "  </thead>\n",
       "  <tbody>\n",
       "    <tr>\n",
       "      <th>0</th>\n",
       "      <td>Санкт_Петербург</td>\n",
       "      <td>59.938784</td>\n",
       "      <td>30.314997</td>\n",
       "    </tr>\n",
       "    <tr>\n",
       "      <th>1</th>\n",
       "      <td>Екатеринбург</td>\n",
       "      <td>56.838011</td>\n",
       "      <td>60.597474</td>\n",
       "    </tr>\n",
       "    <tr>\n",
       "      <th>2</th>\n",
       "      <td>Новосибирск</td>\n",
       "      <td>55.030204</td>\n",
       "      <td>82.920430</td>\n",
       "    </tr>\n",
       "    <tr>\n",
       "      <th>3</th>\n",
       "      <td>Казань</td>\n",
       "      <td>55.796127</td>\n",
       "      <td>49.106414</td>\n",
       "    </tr>\n",
       "    <tr>\n",
       "      <th>4</th>\n",
       "      <td>Нижний Новгород</td>\n",
       "      <td>56.326797</td>\n",
       "      <td>44.006516</td>\n",
       "    </tr>\n",
       "    <tr>\n",
       "      <th>5</th>\n",
       "      <td>Сочи</td>\n",
       "      <td>43.585472</td>\n",
       "      <td>39.723098</td>\n",
       "    </tr>\n",
       "    <tr>\n",
       "      <th>6</th>\n",
       "      <td>Геленджик</td>\n",
       "      <td>44.561012</td>\n",
       "      <td>38.077115</td>\n",
       "    </tr>\n",
       "    <tr>\n",
       "      <th>7</th>\n",
       "      <td>Самара</td>\n",
       "      <td>53.195878</td>\n",
       "      <td>50.100202</td>\n",
       "    </tr>\n",
       "    <tr>\n",
       "      <th>8</th>\n",
       "      <td>Анапа</td>\n",
       "      <td>44.894818</td>\n",
       "      <td>37.316367</td>\n",
       "    </tr>\n",
       "    <tr>\n",
       "      <th>9</th>\n",
       "      <td>Краснодар</td>\n",
       "      <td>45.035470</td>\n",
       "      <td>38.975313</td>\n",
       "    </tr>\n",
       "    <tr>\n",
       "      <th>10</th>\n",
       "      <td>Балашиха</td>\n",
       "      <td>55.797007</td>\n",
       "      <td>37.938118</td>\n",
       "    </tr>\n",
       "    <tr>\n",
       "      <th>11</th>\n",
       "      <td>Москва</td>\n",
       "      <td>55.755864</td>\n",
       "      <td>37.617698</td>\n",
       "    </tr>\n",
       "  </tbody>\n",
       "</table>\n",
       "</div>"
      ]
     },
     "execution_count": 17,
     "metadata": {},
     "output_type": "execute_result"
    }
   ],
   "execution_count": 17
  },
  {
   "metadata": {
    "ExecuteTime": {
     "end_time": "2024-07-17T11:53:08.882235Z",
     "start_time": "2024-07-17T11:53:08.573596Z"
    }
   },
   "cell_type": "code",
   "source": "main_df = pd.read_csv(\"gg.csv\", index_col=0)",
   "id": "567177f6a6fa7566",
   "outputs": [],
   "execution_count": 4
  },
  {
   "metadata": {
    "ExecuteTime": {
     "end_time": "2024-07-17T11:53:09.466597Z",
     "start_time": "2024-07-17T11:53:09.426640Z"
    }
   },
   "cell_type": "code",
   "source": "main_df[\"metro_name\"] = main_df.metro_name.str.replace(\"станция \", \"\")",
   "id": "323f2257d98ec4e4",
   "outputs": [],
   "execution_count": 5
  },
  {
   "metadata": {
    "ExecuteTime": {
     "end_time": "2024-07-17T11:53:11.341026Z",
     "start_time": "2024-07-17T11:53:09.964234Z"
    }
   },
   "cell_type": "code",
   "source": "main_df.to_csv(\"with_metro.csv\", index=False)",
   "id": "7a9e549aac2a4eda",
   "outputs": [],
   "execution_count": 6
  },
  {
   "metadata": {
    "ExecuteTime": {
     "end_time": "2024-07-17T11:02:53.484452Z",
     "start_time": "2024-07-17T11:02:46.189927Z"
    }
   },
   "cell_type": "code",
   "source": "!pip install geopy",
   "id": "4135b8a98cd09b16",
   "outputs": [
    {
     "name": "stdout",
     "output_type": "stream",
     "text": [
      "Collecting geopy\n",
      "  Downloading geopy-2.4.1-py3-none-any.whl.metadata (6.8 kB)\n",
      "Collecting geographiclib<3,>=1.52 (from geopy)\n",
      "  Downloading geographiclib-2.0-py3-none-any.whl.metadata (1.4 kB)\n",
      "Downloading geopy-2.4.1-py3-none-any.whl (125 kB)\n",
      "   ---------------------------------------- 0.0/125.4 kB ? eta -:--:--\n",
      "   --- ------------------------------------ 10.2/125.4 kB ? eta -:--:--\n",
      "   --- ------------------------------------ 10.2/125.4 kB ? eta -:--:--\n",
      "   --- ------------------------------------ 10.2/125.4 kB ? eta -:--:--\n",
      "   --- ------------------------------------ 10.2/125.4 kB ? eta -:--:--\n",
      "   ------------ -------------------------- 41.0/125.4 kB 140.3 kB/s eta 0:00:01\n",
      "   ---------------------- ---------------- 71.7/125.4 kB 231.0 kB/s eta 0:00:01\n",
      "   ---------------------------- ---------- 92.2/125.4 kB 261.7 kB/s eta 0:00:01\n",
      "   ---------------------------- ---------- 92.2/125.4 kB 261.7 kB/s eta 0:00:01\n",
      "   ---------------------------- ---------- 92.2/125.4 kB 261.7 kB/s eta 0:00:01\n",
      "   ---------------------------------- --- 112.6/125.4 kB 225.6 kB/s eta 0:00:01\n",
      "   ---------------------------------- --- 112.6/125.4 kB 225.6 kB/s eta 0:00:01\n",
      "   ---------------------------------- --- 112.6/125.4 kB 225.6 kB/s eta 0:00:01\n",
      "   -------------------------------------- 125.4/125.4 kB 199.0 kB/s eta 0:00:00\n",
      "Downloading geographiclib-2.0-py3-none-any.whl (40 kB)\n",
      "   ---------------------------------------- 0.0/40.3 kB ? eta -:--:--\n",
      "   ---------------------------------------- 0.0/40.3 kB ? eta -:--:--\n",
      "   ------------------------------ --------- 30.7/40.3 kB ? eta -:--:--\n",
      "   ------------------------------ --------- 30.7/40.3 kB ? eta -:--:--\n",
      "   ---------------------------------------- 40.3/40.3 kB 380.8 kB/s eta 0:00:00\n",
      "Installing collected packages: geographiclib, geopy\n",
      "Successfully installed geographiclib-2.0 geopy-2.4.1\n"
     ]
    },
    {
     "name": "stderr",
     "output_type": "stream",
     "text": [
      "\n",
      "[notice] A new release of pip is available: 24.1 -> 24.1.2\n",
      "[notice] To update, run: python.exe -m pip install --upgrade pip\n"
     ]
    }
   ],
   "execution_count": 11
  },
  {
   "metadata": {
    "ExecuteTime": {
     "end_time": "2024-07-17T11:03:03.382015Z",
     "start_time": "2024-07-17T11:03:01.960180Z"
    }
   },
   "cell_type": "code",
   "source": [
    "from geopy.distance import geodesic as GD\n",
    "\n",
    "coord_1 = (43.585472, 39.723098)\n",
    "coord_2 = (43.438172, 39.911178)\n",
    "\n",
    "GD(coord_1, coord_2).km"
   ],
   "id": "ee504846baf0ad1f",
   "outputs": [
    {
     "data": {
      "text/plain": [
       "22.340985730723904"
      ]
     },
     "execution_count": 12,
     "metadata": {},
     "output_type": "execute_result"
    }
   ],
   "execution_count": 12
  },
  {
   "metadata": {
    "ExecuteTime": {
     "end_time": "2024-07-17T11:11:31.982523Z",
     "start_time": "2024-07-17T11:11:31.969669Z"
    }
   },
   "cell_type": "code",
   "source": [
    "coord = df.loc[df['city'] == \"Москва\"]\n",
    "coord['center_lat']"
   ],
   "id": "8789fcc26737f890",
   "outputs": [
    {
     "name": "stdout",
     "output_type": "stream",
     "text": [
      "11    55.755864\n",
      "Name: center_lat, dtype: float64\n"
     ]
    }
   ],
   "execution_count": 20
  },
  {
   "metadata": {},
   "cell_type": "code",
   "outputs": [],
   "execution_count": null,
   "source": [
    "def find_distance(row):\n",
    "    \n",
    "        \n",
    "    coord = df.loc[df['city'] == 'city']\n",
    "    \n",
    "    center_lat = coord['center_lat'].values[0]\n",
    "    center_lon = coord['center_lon'].values[0]\n",
    "    \n",
    "    \n",
    "    \n"
   ],
   "id": "b7f317142081a65f"
  }
 ],
 "metadata": {
  "kernelspec": {
   "display_name": "Python 3",
   "language": "python",
   "name": "python3"
  },
  "language_info": {
   "codemirror_mode": {
    "name": "ipython",
    "version": 2
   },
   "file_extension": ".py",
   "mimetype": "text/x-python",
   "name": "python",
   "nbconvert_exporter": "python",
   "pygments_lexer": "ipython2",
   "version": "2.7.6"
  }
 },
 "nbformat": 4,
 "nbformat_minor": 5
}
